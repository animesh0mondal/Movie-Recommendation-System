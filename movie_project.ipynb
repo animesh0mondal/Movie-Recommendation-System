{
 "cells": [
  {
   "cell_type": "code",
   "execution_count": 1,
   "id": "b0cc1dbd-a43d-462f-b479-332a1e970470",
   "metadata": {},
   "outputs": [],
   "source": [
    "import pandas as pd"
   ]
  },
  {
   "cell_type": "code",
   "execution_count": 2,
   "id": "510e528e-d41e-4eca-8a95-325d0aebc560",
   "metadata": {},
   "outputs": [],
   "source": [
    "# Load the dataset\n",
    "df = pd.read_csv('movies_data.csv')\n"
   ]
  },
  {
   "cell_type": "code",
   "execution_count": 3,
   "id": "b1be5a7a-747b-4d70-8d9f-62f9c5242bef",
   "metadata": {},
   "outputs": [
    {
     "data": {
      "text/html": [
       "<div>\n",
       "<style scoped>\n",
       "    .dataframe tbody tr th:only-of-type {\n",
       "        vertical-align: middle;\n",
       "    }\n",
       "\n",
       "    .dataframe tbody tr th {\n",
       "        vertical-align: top;\n",
       "    }\n",
       "\n",
       "    .dataframe thead th {\n",
       "        text-align: right;\n",
       "    }\n",
       "</style>\n",
       "<table border=\"1\" class=\"dataframe\">\n",
       "  <thead>\n",
       "    <tr style=\"text-align: right;\">\n",
       "      <th></th>\n",
       "      <th>Name</th>\n",
       "      <th>Year</th>\n",
       "      <th>Duration</th>\n",
       "      <th>Genre</th>\n",
       "      <th>Rating</th>\n",
       "      <th>Votes</th>\n",
       "      <th>Director</th>\n",
       "      <th>Actor 1</th>\n",
       "      <th>Actor 2</th>\n",
       "      <th>Actor 3</th>\n",
       "    </tr>\n",
       "  </thead>\n",
       "  <tbody>\n",
       "    <tr>\n",
       "      <th>0</th>\n",
       "      <td>Gadhvi (He thought he was Gandhi)</td>\n",
       "      <td>2019</td>\n",
       "      <td>109</td>\n",
       "      <td>Drama</td>\n",
       "      <td>7.0</td>\n",
       "      <td>8</td>\n",
       "      <td>Gaurav Bakshi</td>\n",
       "      <td>Rasika Dugal</td>\n",
       "      <td>Vivek Ghamande</td>\n",
       "      <td>Arvind Jangid</td>\n",
       "    </tr>\n",
       "    <tr>\n",
       "      <th>1</th>\n",
       "      <td>Yaaram</td>\n",
       "      <td>2019</td>\n",
       "      <td>110</td>\n",
       "      <td>Comedy, Romance</td>\n",
       "      <td>4.4</td>\n",
       "      <td>35</td>\n",
       "      <td>Ovais Khan</td>\n",
       "      <td>Prateik</td>\n",
       "      <td>Ishita Raj</td>\n",
       "      <td>Siddhant Kapoor</td>\n",
       "    </tr>\n",
       "    <tr>\n",
       "      <th>2</th>\n",
       "      <td>Aur Pyaar Ho Gaya</td>\n",
       "      <td>1997</td>\n",
       "      <td>147</td>\n",
       "      <td>Comedy, Drama, Musical</td>\n",
       "      <td>4.7</td>\n",
       "      <td>827</td>\n",
       "      <td>Rahul Rawail</td>\n",
       "      <td>Bobby Deol</td>\n",
       "      <td>Aishwarya Rai Bachchan</td>\n",
       "      <td>Shammi Kapoor</td>\n",
       "    </tr>\n",
       "    <tr>\n",
       "      <th>3</th>\n",
       "      <td>Yahaan</td>\n",
       "      <td>2005</td>\n",
       "      <td>142</td>\n",
       "      <td>Drama, Romance, War</td>\n",
       "      <td>7.4</td>\n",
       "      <td>1086</td>\n",
       "      <td>Shoojit Sircar</td>\n",
       "      <td>Jimmy Sheirgill</td>\n",
       "      <td>Minissha Lamba</td>\n",
       "      <td>Yashpal Sharma</td>\n",
       "    </tr>\n",
       "    <tr>\n",
       "      <th>4</th>\n",
       "      <td>A Question Mark</td>\n",
       "      <td>2012</td>\n",
       "      <td>82</td>\n",
       "      <td>Horror, Mystery, Thriller</td>\n",
       "      <td>5.6</td>\n",
       "      <td>326</td>\n",
       "      <td>Allyson Patel</td>\n",
       "      <td>Yash Dave</td>\n",
       "      <td>Muntazir Ahmad</td>\n",
       "      <td>Kiran Bhatia</td>\n",
       "    </tr>\n",
       "  </tbody>\n",
       "</table>\n",
       "</div>"
      ],
      "text/plain": [
       "                                Name  Year  Duration  \\\n",
       "0  Gadhvi (He thought he was Gandhi)  2019       109   \n",
       "1                             Yaaram  2019       110   \n",
       "2                  Aur Pyaar Ho Gaya  1997       147   \n",
       "3                             Yahaan  2005       142   \n",
       "4                    A Question Mark  2012        82   \n",
       "\n",
       "                       Genre  Rating  Votes        Director          Actor 1  \\\n",
       "0                      Drama     7.0      8   Gaurav Bakshi     Rasika Dugal   \n",
       "1            Comedy, Romance     4.4     35      Ovais Khan          Prateik   \n",
       "2     Comedy, Drama, Musical     4.7    827    Rahul Rawail       Bobby Deol   \n",
       "3        Drama, Romance, War     7.4   1086  Shoojit Sircar  Jimmy Sheirgill   \n",
       "4  Horror, Mystery, Thriller     5.6    326   Allyson Patel        Yash Dave   \n",
       "\n",
       "                  Actor 2          Actor 3  \n",
       "0          Vivek Ghamande    Arvind Jangid  \n",
       "1              Ishita Raj  Siddhant Kapoor  \n",
       "2  Aishwarya Rai Bachchan    Shammi Kapoor  \n",
       "3          Minissha Lamba   Yashpal Sharma  \n",
       "4          Muntazir Ahmad     Kiran Bhatia  "
      ]
     },
     "execution_count": 3,
     "metadata": {},
     "output_type": "execute_result"
    }
   ],
   "source": [
    "df.head()"
   ]
  },
  {
   "cell_type": "code",
   "execution_count": 4,
   "id": "dd3b9371-181e-48e2-9c9c-d4533cd280c9",
   "metadata": {},
   "outputs": [],
   "source": [
    "from sklearn.feature_extraction.text import TfidfVectorizer\n",
    "from sklearn.metrics.pairwise import linear_kernel"
   ]
  },
  {
   "cell_type": "code",
   "execution_count": 5,
   "id": "c18c5024-a09d-4d7e-a76d-87cbd05d504a",
   "metadata": {},
   "outputs": [],
   "source": [
    "df['Genre'] = df['Genre'].fillna('')"
   ]
  },
  {
   "cell_type": "code",
   "execution_count": 6,
   "id": "af426fe9-8038-4c1b-abd4-666faa74aaf5",
   "metadata": {},
   "outputs": [],
   "source": [
    "# if df is not None:\n",
    "# if df is not None and not df.empty:\n",
    "if not df.empty:\n",
    " tfidf = TfidfVectorizer(stop_words='english')\n",
    " tfidf_matrix = tfidf.fit_transform(df['Genre'])\n",
    " tfidf_matrix = tfidf.fit_transform(df['Name'])   "
   ]
  },
  {
   "cell_type": "code",
   "execution_count": 7,
   "id": "254221ef-5ef7-424b-8aa1-ef43544004ff",
   "metadata": {},
   "outputs": [],
   "source": [
    "cosine_sim = linear_kernel(tfidf_matrix, tfidf_matrix)"
   ]
  },
  {
   "cell_type": "code",
   "execution_count": 8,
   "id": "e17ebbf6-d392-449a-b604-44dc730806aa",
   "metadata": {},
   "outputs": [],
   "source": [
    "indices = pd.Series(df.index, index=df['Name']).drop_duplicates()"
   ]
  },
  {
   "cell_type": "code",
   "execution_count": 9,
   "id": "d7b99f70-5d6e-4c20-879e-0002f4fc03fe",
   "metadata": {},
   "outputs": [],
   "source": [
    "# def recommend(Name):\n",
    "#     index = df[df['Name'] == Name].index[0]\n",
    "#     distances = sorted(list(enumerate(indices[index])),reverse=True,key = lambda x: x[1])\n",
    "#     for i in distances[1:6]:\n",
    "#         print(new.iloc[i[0]].Name)\n",
    "        "
   ]
  },
  {
   "cell_type": "code",
   "execution_count": 10,
   "id": "913b17f6-3992-400d-96be-9e15c1eb7031",
   "metadata": {},
   "outputs": [],
   "source": [
    "# recommend('100 Days')"
   ]
  },
  {
   "cell_type": "code",
   "execution_count": 13,
   "id": "c0aa12f6-6616-4b68-92e5-118d8bbba082",
   "metadata": {},
   "outputs": [],
   "source": [
    "def recommend(name, cosine_sim=cosine_sim):\n",
    "    if name not in indices:\n",
    "        print(f\"Movie '{name}' not found in the dataset.\")\n",
    "        return\n",
    "    \n",
    "    idx = indices[name]\n",
    "    sim_scores = list(enumerate(cosine_sim[idx]))\n",
    "    sim_scores = sorted(sim_scores, key=lambda x: x[1], reverse=True)\n",
    "    sim_scores = sim_scores[1:6]  # Get the 5 most similar movies\n",
    "    movie_indices = [i[0] for i in sim_scores]\n",
    "    \n",
    "    recommendations = df['Name'].iloc[movie_indices]\n",
    "    for name in recommendations:\n",
    "        # print(name)\n",
    "        print(df.iloc[name[0]].Name)\n",
    "\n",
    "# Example usage\n",
    "# recommend('3 Idiots')"
   ]
  },
  {
   "cell_type": "code",
   "execution_count": 14,
   "id": "2e3c953d-d0c7-4a59-9b3e-38f27c8f7542",
   "metadata": {},
   "outputs": [],
   "source": [
    " # def get_recommendations(Name, cosine_sim=cosine_sim):\n",
    " #        if Name not in indices:\n",
    " #            return [\"Movie not found in the dataset.\"]\n",
    " #        idx = indices[Name]\n",
    " #        sim_scores = list(enumerate(cosine_sim[idx]))\n",
    " #        sim_scores = sorted(sim_scores, key=lambda x: x[1], reverse=True)\n",
    " #        sim_scores = sim_scores[1:11]\n",
    " #        movie_indices = [i[0] for i in sim_scores]\n",
    " #        return df['title'].iloc[movie_indices]"
   ]
  },
  {
   "cell_type": "code",
   "execution_count": 15,
   "id": "71d05441-1225-4865-8be0-ac52d9bd82f3",
   "metadata": {},
   "outputs": [],
   "source": [
    "def get_recommendations(Name, cosine_sim=cosine_sim):\n",
    "    if Name not in indices:\n",
    "        return [\"Movie not found in the dataset.\"]\n",
    "    idx = indices[Name]\n",
    "    sim_scores = list(enumerate(cosine_sim[idx]))\n",
    "    sim_scores = sorted(sim_scores, key=lambda x: x[1], reverse=True)\n",
    "    sim_scores = sim_scores[1:11]\n",
    "    movie_indices = [i[0] for i in sim_scores]\n",
    "    # return df['Name'].iloc[movie_indices]\n",
    "    recommendations = df['Name'].iloc[movie_indices]\n",
    "    st.write(f\"Debug: Recommendations: {recommendations}\")  # Debugging output\n",
    "    return recommendations"
   ]
  },
  {
   "cell_type": "code",
   "execution_count": 16,
   "id": "791840e3-21b3-42b0-b950-cedd71d79843",
   "metadata": {},
   "outputs": [
    {
     "data": {
      "text/plain": [
       "<function __main__.get_recommendations(Name, cosine_sim=array([[1.        , 0.        , 0.        , ..., 0.        , 0.        ,\n",
       "        0.        ],\n",
       "       [0.        , 1.        , 0.        , ..., 0.        , 0.        ,\n",
       "        0.        ],\n",
       "       [0.        , 0.        , 1.        , ..., 0.        , 0.        ,\n",
       "        0.        ],\n",
       "       ...,\n",
       "       [0.        , 0.        , 0.        , ..., 1.        , 0.        ,\n",
       "        0.46871249],\n",
       "       [0.        , 0.        , 0.        , ..., 0.        , 1.        ,\n",
       "        0.        ],\n",
       "       [0.        , 0.        , 0.        , ..., 0.46871249, 0.        ,\n",
       "        1.        ]]))>"
      ]
     },
     "execution_count": 16,
     "metadata": {},
     "output_type": "execute_result"
    }
   ],
   "source": [
    "get_recommendations"
   ]
  },
  {
   "cell_type": "code",
   "execution_count": 17,
   "id": "43262de3-5cb1-4b8d-bc55-3de9c6d88f71",
   "metadata": {},
   "outputs": [],
   "source": [
    "# tfidf_matrix"
   ]
  },
  {
   "cell_type": "code",
   "execution_count": 18,
   "id": "a7f59320-0aee-414b-b702-ae8d89dceefc",
   "metadata": {},
   "outputs": [],
   "source": [
    "# tfidf"
   ]
  },
  {
   "cell_type": "code",
   "execution_count": 19,
   "id": "dbe9954e-77de-4268-8ef5-16c630d0368d",
   "metadata": {},
   "outputs": [],
   "source": [
    "cosine_sim = linear_kernel(tfidf_matrix, tfidf_matrix)"
   ]
  },
  {
   "cell_type": "code",
   "execution_count": 20,
   "id": "cc85d9c1-fcf6-4079-925a-e1ca6c8ccf45",
   "metadata": {},
   "outputs": [],
   "source": [
    "# cosine_sim"
   ]
  },
  {
   "cell_type": "code",
   "execution_count": 21,
   "id": "faae01b2-201e-4115-8707-e41a92000943",
   "metadata": {},
   "outputs": [],
   "source": [
    "indices = pd.Series(df.index, index=df['Name']).drop_duplicates()"
   ]
  },
  {
   "cell_type": "code",
   "execution_count": 22,
   "id": "03e63a0b-ca04-4188-85f0-44fc6be3a5a6",
   "metadata": {},
   "outputs": [],
   "source": [
    "# indices"
   ]
  },
  {
   "cell_type": "code",
   "execution_count": 23,
   "id": "a87a3b93-b5ef-42a8-b278-bf676dbdb50d",
   "metadata": {},
   "outputs": [],
   "source": [
    "# def get_recommendations(Name, cosine_sim=cosine_sim):\n",
    "#     idx = indices[Name]\n",
    "#     sim_scores = list(enumerate(cosine_sim[idx]))\n",
    "#     sim_scores = sorted(sim_scores, key=lambda x: x[1], reverse=True)\n",
    "#     sim_scores = sim_scores[1:11]\n",
    "#     movie_indices = [i[0] for i in sim_scores]\n",
    "#     return df['Name'].iloc[movie_indices]"
   ]
  },
  {
   "cell_type": "code",
   "execution_count": 24,
   "id": "8498f2dd-9499-4440-b9c6-9910b0322b0e",
   "metadata": {},
   "outputs": [],
   "source": [
    "import pickle"
   ]
  },
  {
   "cell_type": "code",
   "execution_count": 25,
   "id": "eca456f2-7950-449a-8f83-a141ea1912e2",
   "metadata": {},
   "outputs": [],
   "source": [
    "pickle.dump(df.to_dict(),open('movies_dict.pkl','wb'))"
   ]
  },
  {
   "cell_type": "code",
   "execution_count": 26,
   "id": "e2f18b25-b498-4ba3-ab10-0819d7eada0b",
   "metadata": {},
   "outputs": [
    {
     "data": {
      "text/plain": [
       "array(['Gadhvi (He thought he was Gandhi)', 'Yaaram', 'Aur Pyaar Ho Gaya',\n",
       "       ..., 'Zulm Ki Zanjeer', 'Zulmi', 'Zulm-O-Sitam'], dtype=object)"
      ]
     },
     "execution_count": 26,
     "metadata": {},
     "output_type": "execute_result"
    }
   ],
   "source": [
    "df['Name'].values"
   ]
  },
  {
   "cell_type": "code",
   "execution_count": 27,
   "id": "d1b7c697-9a6b-4353-88c7-788be112793c",
   "metadata": {},
   "outputs": [],
   "source": [
    "pickle.dump(indices,open('indices.pkl','wb'))\n"
   ]
  },
  {
   "cell_type": "markdown",
   "id": "792b3d93-db8d-452f-80d0-71b7e3d03541",
   "metadata": {},
   "source": [
    "# imdb data csv"
   ]
  },
  {
   "cell_type": "code",
   "execution_count": 28,
   "id": "e6733d66-369e-4de5-97b4-bef3933ed10d",
   "metadata": {},
   "outputs": [
    {
     "data": {
      "text/plain": [
       "'movies_data_with_imdb_links.csv'"
      ]
     },
     "execution_count": 28,
     "metadata": {},
     "output_type": "execute_result"
    }
   ],
   "source": [
    "# Load the dataset\n",
    "file_path = 'movies_data.csv'\n",
    "df = pd.read_csv(file_path)\n",
    "\n",
    "# Define a function to create IMDb search URLs based on movie title\n",
    "def create_imdb_search_url(movie_title):\n",
    "    base_url = \"https://www.imdb.com/find?q=\"\n",
    "    search_url = base_url + movie_title.replace(\" \", \"%20\")  # Replace spaces with '%20' for URL encoding\n",
    "    return search_url\n",
    "\n",
    "# Apply the function to the 'Name' column to generate a new 'IMDb_Link' column\n",
    "df['IMDb_Link'] = df['Name'].apply(create_imdb_search_url)\n",
    "\n",
    "# Save the updated dataset\n",
    "modified_file_path = 'movies_data_with_imdb_links.csv'\n",
    "df.to_csv(modified_file_path, index=False)\n",
    "\n",
    "modified_file_path"
   ]
  },
  {
   "cell_type": "code",
   "execution_count": 29,
   "id": "d1d819f6-ec9d-40be-b391-41a8c56234a4",
   "metadata": {},
   "outputs": [
    {
     "name": "stdout",
     "output_type": "stream",
     "text": [
      "Requirement already satisfied: IMDbPY in c:\\users\\monda\\anaconda3\\lib\\site-packages (2022.7.9)\n",
      "Requirement already satisfied: cinemagoer in c:\\users\\monda\\anaconda3\\lib\\site-packages (from IMDbPY) (2023.5.1)\n",
      "Requirement already satisfied: SQLAlchemy in c:\\users\\monda\\anaconda3\\lib\\site-packages (from cinemagoer->IMDbPY) (2.0.34)\n",
      "Requirement already satisfied: lxml in c:\\users\\monda\\anaconda3\\lib\\site-packages (from cinemagoer->IMDbPY) (5.2.1)\n",
      "Requirement already satisfied: typing-extensions>=4.6.0 in c:\\users\\monda\\anaconda3\\lib\\site-packages (from SQLAlchemy->cinemagoer->IMDbPY) (4.11.0)\n",
      "Requirement already satisfied: greenlet!=0.4.17 in c:\\users\\monda\\anaconda3\\lib\\site-packages (from SQLAlchemy->cinemagoer->IMDbPY) (3.0.1)\n",
      "Note: you may need to restart the kernel to use updated packages.\n"
     ]
    }
   ],
   "source": [
    "pip install IMDbPY"
   ]
  },
  {
   "cell_type": "code",
   "execution_count": 30,
   "id": "10d37e57-eba3-49b9-8ece-5ff1d3a0b9a1",
   "metadata": {},
   "outputs": [
    {
     "name": "stdout",
     "output_type": "stream",
     "text": [
      "                                Name   imdb_id\n",
      "0  Gadhvi (He thought he was Gandhi)   8529208\n",
      "1                             Yaaram  11007050\n",
      "2                  Aur Pyaar Ho Gaya   0118525\n",
      "3                             Yahaan   0473567\n",
      "4                    A Question Mark   2378057\n",
      "5                            Andheri   1362166\n",
      "6          1:1.6 An Ode to Lost Love   1830453\n",
      "7               1:13:7 Ek Tera Saath   3411076\n",
      "8                           100 Days   8199972\n",
      "9                          100% Love   1869226\n"
     ]
    },
    {
     "name": "stderr",
     "output_type": "stream",
     "text": [
      "C:\\Users\\monda\\AppData\\Local\\Temp\\ipykernel_17892\\3216557.py:23: SettingWithCopyWarning: \n",
      "A value is trying to be set on a copy of a slice from a DataFrame.\n",
      "Try using .loc[row_indexer,col_indexer] = value instead\n",
      "\n",
      "See the caveats in the documentation: https://pandas.pydata.org/pandas-docs/stable/user_guide/indexing.html#returning-a-view-versus-a-copy\n",
      "  df_first_5['imdb_id'] = df_first_5['Name'].apply(get_imdb_id)  # Replace 'movie_title' with the actual column name\n"
     ]
    }
   ],
   "source": [
    "import pandas as pd\n",
    "from imdb import IMDb\n",
    "\n",
    "# Load your dataset\n",
    "df = pd.read_csv('movies_data.csv')\n",
    "\n",
    "# Create an IMDb instance\n",
    "ia = IMDb()\n",
    "\n",
    "# Function to get IMDb ID from movie title\n",
    "def get_imdb_id(title):\n",
    "    try:\n",
    "        movie = ia.search_movie(title)[0]\n",
    "        return movie.movieID  # Return the IMDb ID\n",
    "    except IndexError:\n",
    "        return None  # Return None if not found\n",
    "    except Exception as e:\n",
    "        print(f\"Error: {e}\")\n",
    "        return None\n",
    "\n",
    "# Fetch IMDb IDs for the first 5 movies\n",
    "df_first_5 = df.head(10)  # Get the first 5 rows\n",
    "df_first_5['imdb_id'] = df_first_5['Name'].apply(get_imdb_id)  # Replace 'movie_title' with the actual column name\n",
    "\n",
    "#Display the results\n",
    "print(df_first_5[['Name', 'imdb_id']])"
   ]
  },
  {
   "cell_type": "code",
   "execution_count": 31,
   "id": "914bd25d-b128-4e65-b432-7263288c8b59",
   "metadata": {},
   "outputs": [
    {
     "name": "stdout",
     "output_type": "stream",
     "text": [
      "IMDb IDs successfully added and data saved to movies_data_new.csv\n"
     ]
    }
   ],
   "source": [
    "import pandas as pd\n",
    "\n",
    "# File paths\n",
    "csv_file_path = 'movies_data.csv'  # The existing CSV file\n",
    "txt_file_path = 'aaa.txt'  # The text file with movie names and IMDb IDs\n",
    "\n",
    "# Step 1: Load the existing CSV file into a DataFrame\n",
    "df_existing = pd.read_csv(csv_file_path)\n",
    "\n",
    "# Step 2: Load the text file with IMDb data\n",
    "with open(txt_file_path, 'r') as file:\n",
    "    lines = file.readlines()\n",
    "\n",
    "# Step 3: Create a dictionary to store movie names and IMDb IDs\n",
    "imdb_data = {}\n",
    "\n",
    "# Loop through each line and split it into movie name and IMDb ID\n",
    "for line in lines:\n",
    "    parts = line.rsplit(maxsplit=1)\n",
    "    if len(parts) == 2:\n",
    "        movie_name = parts[0].strip()\n",
    "        imdb_id = parts[1].strip()\n",
    "        imdb_data[movie_name] = imdb_id  # Add to the dictionary\n",
    "\n",
    "# Step 4: Add a new column 'IMDb ID' to the existing DataFrame by matching movie names\n",
    "df_existing['IMDb ID'] = df_existing['Name'].map(imdb_data)  # Assuming 'Name' is the movie title column\n",
    "\n",
    "# Step 5: Save the updated DataFrame back to a new CSV file\n",
    "output_path = 'movies_data_new.csv'\n",
    "df_existing.to_csv(output_path, index=False)\n",
    "\n",
    "print(f\"IMDb IDs successfully added and data saved to {output_path}\")\n"
   ]
  },
  {
   "cell_type": "markdown",
   "id": "fa93fd8a-062d-469e-9a46-00d15f8e1a97",
   "metadata": {},
   "source": [
    "## imdb id column\n"
   ]
  },
  {
   "cell_type": "code",
   "execution_count": 32,
   "id": "3b124de4-1400-44da-9c97-ffd327e7c6b9",
   "metadata": {},
   "outputs": [
    {
     "name": "stdout",
     "output_type": "stream",
     "text": [
      "                                Name   imdb_id\n",
      "0  Gadhvi (He thought he was Gandhi)   8529208\n",
      "1                             Yaaram  11007050\n",
      "2                  Aur Pyaar Ho Gaya   0118525\n",
      "3                             Yahaan   0473567\n",
      "4                    A Question Mark   2378057\n",
      "5                            Andheri   1362166\n",
      "6          1:1.6 An Ode to Lost Love   1830453\n",
      "7               1:13:7 Ek Tera Saath   3411076\n",
      "8                           100 Days   8199972\n",
      "9                          100% Love   1869226\n"
     ]
    },
    {
     "name": "stderr",
     "output_type": "stream",
     "text": [
      "C:\\Users\\monda\\AppData\\Local\\Temp\\ipykernel_17892\\3503078198.py:23: SettingWithCopyWarning: \n",
      "A value is trying to be set on a copy of a slice from a DataFrame.\n",
      "Try using .loc[row_indexer,col_indexer] = value instead\n",
      "\n",
      "See the caveats in the documentation: https://pandas.pydata.org/pandas-docs/stable/user_guide/indexing.html#returning-a-view-versus-a-copy\n",
      "  df_first_5['imdb_id'] = df_first_5['Name'].apply(get_imdb_id)  # Replace 'movie_title' with the actual column name\n"
     ]
    }
   ],
   "source": [
    "import pandas as pd\n",
    "from imdb import IMDb\n",
    "\n",
    "# Load your dataset\n",
    "df = pd.read_csv('movies_data.csv')\n",
    "\n",
    "# Create an IMDb instance\n",
    "ia = IMDb()\n",
    "\n",
    "# Function to get IMDb ID from movie title\n",
    "def get_imdb_id(title):\n",
    "    try:\n",
    "        movie = ia.search_movie(title)[0]\n",
    "        return movie.movieID  # Return the IMDb ID\n",
    "    except IndexError:\n",
    "        return None  # Return None if not found\n",
    "    except Exception as e:\n",
    "        print(f\"Error: {e}\")\n",
    "        return None\n",
    "\n",
    "# Fetch IMDb IDs for the first 5 movies\n",
    "df_first_5 = df.head(10)  # Get the first 5 rows\n",
    "df_first_5['imdb_id'] = df_first_5['Name'].apply(get_imdb_id)  # Replace 'movie_title' with the actual column name\n",
    "\n",
    "# Display the results\n",
    "print(df_first_5[['Name', 'imdb_id']])"
   ]
  },
  {
   "cell_type": "code",
   "execution_count": null,
   "id": "27f2c4da-92d5-4cbf-b3f8-8613ca441349",
   "metadata": {},
   "outputs": [],
   "source": []
  }
 ],
 "metadata": {
  "kernelspec": {
   "display_name": "Python 3 (ipykernel)",
   "language": "python",
   "name": "python3"
  },
  "language_info": {
   "codemirror_mode": {
    "name": "ipython",
    "version": 3
   },
   "file_extension": ".py",
   "mimetype": "text/x-python",
   "name": "python",
   "nbconvert_exporter": "python",
   "pygments_lexer": "ipython3",
   "version": "3.12.4"
  }
 },
 "nbformat": 4,
 "nbformat_minor": 5
}
